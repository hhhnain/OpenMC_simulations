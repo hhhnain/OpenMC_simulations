{
 "cells": [
  {
   "cell_type": "code",
   "execution_count": 82,
   "id": "742c4d0b-bdbf-45b4-ad0a-f7a93d8f62ea",
   "metadata": {},
   "outputs": [],
   "source": [
    "import openmc\n",
    "import openmc.mgxs\n",
    "import matplotlib.pyplot as plt\n",
    "import time\n",
    "import numpy as np"
   ]
  },
  {
   "cell_type": "code",
   "execution_count": 79,
   "id": "54c46469-e5ea-4420-afc5-219d90bdd54b",
   "metadata": {},
   "outputs": [],
   "source": [
    "#create material, #define fuel,clad,moderator etc\n",
    "#geometry by making surface, then cells, then universe then geometry\n",
    "#setting files with source, particles, etc\n",
    "#creates tallies, or mgxs\n",
    "time1 = time.time()"
   ]
  },
  {
   "cell_type": "code",
   "execution_count": 18,
   "id": "7fd6902b-c963-4213-a081-4f47b7712b22",
   "metadata": {},
   "outputs": [
    {
     "name": "stderr",
     "output_type": "stream",
     "text": [
      "/home/hasnain123/anaconda3/envs/openmc/lib/python3.11/site-packages/openmc/mixin.py:70: IDWarning: Another Material instance already exists with id=1.\n",
      "  warn(msg, IDWarning)\n"
     ]
    }
   ],
   "source": [
    "fuel = openmc.Material(1,'uo2')\n",
    "fuel.add_nuclide('U235',0.1)\n",
    "fuel.add_nuclide('U238',0.9)\n",
    "fuel.add_nuclide('O16',2)\n",
    "fuel.set_density('g/cm3',10.97)\n",
    "mats = openmc.Materials([fuel])\n",
    "mats.export_to_xml()"
   ]
  },
  {
   "cell_type": "code",
   "execution_count": 19,
   "id": "84105d8e-d831-4450-8a83-d962870519c7",
   "metadata": {},
   "outputs": [],
   "source": [
    "#surface\n",
    "a = 70\n",
    "left = openmc.XPlane(x0=-a,boundary_type='vacuum')\n",
    "right = openmc.XPlane(x0=a,boundary_type='vacuum')\n",
    "front = openmc.YPlane(y0=-a,boundary_type='vacuum')\n",
    "back = openmc.YPlane(y0=a,boundary_type='vacuum')\n",
    "top = openmc.ZPlane(z0=a,boundary_type='vacuum')\n",
    "bottom = openmc.ZPlane(z0=-a,boundary_type='vacuum')"
   ]
  },
  {
   "cell_type": "code",
   "execution_count": 20,
   "id": "60bfdcdf-a651-465e-9eaa-9f552f9afbfc",
   "metadata": {},
   "outputs": [],
   "source": [
    "#cell\n",
    "slab_cell = openmc.Cell()\n",
    "slab_cell.region = +left & -right & +bottom & -top #& +front & -back \n",
    "slab_cell.fill = fuel"
   ]
  },
  {
   "cell_type": "code",
   "execution_count": 21,
   "id": "f2d7b140-63bd-42f7-a2c2-d06c05103a67",
   "metadata": {},
   "outputs": [],
   "source": [
    "#univers\n",
    "universe = openmc.Universe(cells=[slab_cell])\n",
    "#geometry\n",
    "slab_geometry = openmc.Geometry()\n",
    "slab_geometry.root_universe = universe\n",
    "slab_geometry.export_to_xml()"
   ]
  },
  {
   "cell_type": "code",
   "execution_count": 22,
   "id": "afffef1a-9930-48f4-90f2-c70baebc27d6",
   "metadata": {},
   "outputs": [
    {
     "data": {
      "text/plain": [
       "<matplotlib.image.AxesImage at 0x7fdb0a84c710>"
      ]
     },
     "execution_count": 22,
     "metadata": {},
     "output_type": "execute_result"
    },
    {
     "data": {
      "image/png": "[encoded data removed]",
      "text/plain": [
       "<Figure size 258.065x259.74 with 1 Axes>"
      ]
     },
     "metadata": {},
     "output_type": "display_data"
    }
   ],
   "source": [
    "universe.plot(width=(180,180))"
   ]
  },
  {
   "cell_type": "code",
   "execution_count": 73,
   "id": "eda26060-f6f2-4dea-adf8-97b90b1ceca1",
   "metadata": {},
   "outputs": [],
   "source": [
    "batches = 250\n",
    "particles = 1000000\n",
    "inactive = 100\n",
    "settings = openmc.Settings()\n",
    "settings.particles = particles\n",
    "settings.batches = batches\n",
    "settings.inactive = inactive\n",
    "#settings.energy_mode = 'multi-group'\n",
    "bounds = [-a,-a,-a,a,a,a]\n",
    "uniform_dist = openmc.stats.Box(\n",
    "    lower_left = bounds[:3],\n",
    "    upper_right=bounds[3:],\n",
    "    only_fissionable=True\n",
    ")\n",
    "settings.source = openmc.Source(space=uniform_dist)\n",
    "settings.export_to_xml()"
   ]
  },
  {
   "cell_type": "code",
   "execution_count": 24,
   "id": "4c2b35f4-4006-408c-8479-d66e7ba9abdb",
   "metadata": {},
   "outputs": [],
   "source": [
    "energy_filter = openmc.EnergyFilter([0,1000,20e6])\n",
    "#energy_filter = openmc.EnergyFilter([0,20e6])"
   ]
  },
  {
   "cell_type": "code",
   "execution_count": 25,
   "id": "31578717-84a2-44cf-bea3-61916b0d1802",
   "metadata": {},
   "outputs": [],
   "source": [
    "mesh = openmc.RegularMesh()\n",
    "mesh.dimension = 140,1,1\n",
    "mesh.lower_left = bounds[:3]\n",
    "mesh.upper_right = bounds[3:]"
   ]
  },
  {
   "cell_type": "code",
   "execution_count": 26,
   "id": "ad0122d0-a68c-40f6-ae37-bbc3e6f3e422",
   "metadata": {},
   "outputs": [],
   "source": [
    "mesh_filter = openmc.MeshFilter(mesh=mesh)"
   ]
  },
  {
   "cell_type": "code",
   "execution_count": 27,
   "id": "1ad66e55-96ac-4b98-93d0-de3413988889",
   "metadata": {},
   "outputs": [],
   "source": [
    "tallies_file = openmc.Tallies()\n",
    "tally = openmc.Tally(name='flux')\n",
    "tally.filters = [mesh_filter,energy_filter]\n",
    "tally.scores = ['flux']\n",
    "tallies_file.append(tally)\n",
    "tallies_file.export_to_xml()"
   ]
  },
  {
   "cell_type": "code",
   "execution_count": 13,
   "id": "f73cd134-5296-4680-b9e1-e14a33f5c866",
   "metadata": {},
   "outputs": [
    {
     "name": "stdout",
     "output_type": "stream",
     "text": [
      "                                %%%%%%%%%%%%%%%\n",
      "                           %%%%%%%%%%%%%%%%%%%%%%%%\n",
      "                        %%%%%%%%%%%%%%%%%%%%%%%%%%%%%%\n",
      "                      %%%%%%%%%%%%%%%%%%%%%%%%%%%%%%%%%%\n",
      "                    %%%%%%%%%%%%%%%%%%%%%%%%%%%%%%%%%%%%%%\n",
      "                   %%%%%%%%%%%%%%%%%%%%%%%%%%%%%%%%%%%%%%%%\n",
      "                                    %%%%%%%%%%%%%%%%%%%%%%%%\n",
      "                                     %%%%%%%%%%%%%%%%%%%%%%%%\n",
      "                 ###############      %%%%%%%%%%%%%%%%%%%%%%%%\n",
      "                ##################     %%%%%%%%%%%%%%%%%%%%%%%\n",
      "                ###################     %%%%%%%%%%%%%%%%%%%%%%%\n",
      "                ####################     %%%%%%%%%%%%%%%%%%%%%%\n",
      "                #####################     %%%%%%%%%%%%%%%%%%%%%\n",
      "                ######################     %%%%%%%%%%%%%%%%%%%%\n",
      "                #######################     %%%%%%%%%%%%%%%%%%\n",
      "                 #######################     %%%%%%%%%%%%%%%%%\n",
      "                 ######################     %%%%%%%%%%%%%%%%%\n",
      "                  ####################     %%%%%%%%%%%%%%%%%\n",
      "                    #################     %%%%%%%%%%%%%%%%%\n",
      "                     ###############     %%%%%%%%%%%%%%%%\n",
      "                       ############     %%%%%%%%%%%%%%%\n",
      "                          ########     %%%%%%%%%%%%%%\n",
      "                                      %%%%%%%%%%%\n",
      "\n",
      "                 | The OpenMC Monte Carlo Code\n",
      "       Copyright | 2011-2023 MIT, UChicago Argonne LLC, and contributors\n",
      "         License | https://docs.openmc.org/en/latest/license.html\n",
      "         Version | 0.13.3\n",
      "        Git SHA1 | 50e39a4e20dc9e0f3d7ccf07333f6a5e6c797c8c\n",
      "       Date/Time | 2023-11-20 18:21:28\n",
      "  OpenMP Threads | 8\n",
      "\n",
      " Reading settings XML file...\n",
      " Reading cross sections XML file...\n",
      " Reading materials XML file...\n",
      " Reading geometry XML file...\n",
      " Reading U235 from\n",
      " /home/hasnain123/openmc/endf_libraries/endfb-vii.1-hdf5/neutron/U235.h5\n",
      " Reading U238 from\n",
      " /home/hasnain123/openmc/endf_libraries/endfb-vii.1-hdf5/neutron/U238.h5\n",
      " Reading O16 from\n",
      " /home/hasnain123/openmc/endf_libraries/endfb-vii.1-hdf5/neutron/O16.h5\n",
      " Minimum neutron data temperature: 294 K\n",
      " Maximum neutron data temperature: 294 K\n",
      " Reading tallies XML file...\n",
      " Preparing distributed cell instances...\n",
      " Reading plot XML file...\n",
      " Writing summary.h5 file...\n",
      " Maximum neutron transport energy: 20000000 eV for U235\n",
      " Initializing source particles...\n",
      "\n",
      " ====================>     K EIGENVALUE SIMULATION     <====================\n",
      "\n",
      "  Bat./Gen.      k            Average k\n",
      "  =========   ========   ====================\n",
      "        1/1    0.93876\n",
      "        2/1    1.00666\n",
      "        3/1    1.02858\n",
      "        4/1    1.04014\n",
      "        5/1    1.06196\n",
      "        6/1    1.04583\n",
      "        7/1    1.03433\n",
      "        8/1    1.06155\n",
      "        9/1    1.06734\n",
      "       10/1    1.06111\n",
      "       11/1    1.07244\n",
      "       12/1    1.07368    1.07306 +/- 0.00062\n",
      "       13/1    1.05320    1.06644 +/- 0.00663\n",
      "       14/1    1.08112    1.07011 +/- 0.00595\n",
      "       15/1    1.06738    1.06956 +/- 0.00464\n",
      "       16/1    1.05656    1.06740 +/- 0.00437\n",
      "       17/1    1.07160    1.06800 +/- 0.00374\n",
      "       18/1    1.08065    1.06958 +/- 0.00360\n",
      "       19/1    1.07789    1.07050 +/- 0.00331\n",
      "       20/1    1.08580    1.07203 +/- 0.00333\n",
      "       21/1    1.07098    1.07194 +/- 0.00302\n",
      "       22/1    1.08636    1.07314 +/- 0.00300\n",
      "       23/1    1.08407    1.07398 +/- 0.00289\n",
      "       24/1    1.06893    1.07362 +/- 0.00270\n",
      "       25/1    1.07533    1.07373 +/- 0.00251\n",
      "       26/1    1.07334    1.07371 +/- 0.00235\n",
      "       27/1    1.06005    1.07291 +/- 0.00235\n",
      "       28/1    1.06630    1.07254 +/- 0.00225\n",
      "       29/1    1.07479    1.07266 +/- 0.00213\n",
      "       30/1    1.07345    1.07270 +/- 0.00202\n",
      "       31/1    1.06627    1.07239 +/- 0.00195\n",
      "       32/1    1.06559    1.07208 +/- 0.00188\n",
      "       33/1    1.08236    1.07253 +/- 0.00185\n",
      "       34/1    1.07680    1.07271 +/- 0.00178\n",
      "       35/1    1.06379    1.07235 +/- 0.00175\n",
      "       36/1    1.06918    1.07223 +/- 0.00168\n",
      "       37/1    1.05006    1.07141 +/- 0.00181\n",
      "       38/1    1.06767    1.07127 +/- 0.00175\n",
      "       39/1    1.07224    1.07131 +/- 0.00169\n",
      "       40/1    1.08223    1.07167 +/- 0.00168\n",
      "       41/1    1.06056    1.07131 +/- 0.00166\n",
      "       42/1    1.06958    1.07126 +/- 0.00161\n",
      "       43/1    1.08208    1.07159 +/- 0.00159\n",
      "       44/1    1.07120    1.07157 +/- 0.00154\n",
      "       45/1    1.05388    1.07107 +/- 0.00158\n",
      "       46/1    1.07114    1.07107 +/- 0.00154\n",
      "       47/1    1.06629    1.07094 +/- 0.00150\n",
      "       48/1    1.08828    1.07140 +/- 0.00153\n",
      "       49/1    1.06783    1.07131 +/- 0.00149\n",
      "       50/1    1.05775    1.07097 +/- 0.00150\n",
      " Creating state point statepoint.50.h5...\n",
      "\n",
      " =======================>     TIMING STATISTICS     <=======================\n",
      "\n",
      " Total time for initialization     = 1.5258e-01 seconds\n",
      "   Reading cross sections          = 1.4537e-01 seconds\n",
      " Total time in simulation          = 4.4600e+00 seconds\n",
      "   Time in transport only          = 4.2446e+00 seconds\n",
      "   Time in inactive batches        = 6.2576e-01 seconds\n",
      "   Time in active batches          = 3.8342e+00 seconds\n",
      "   Time synchronizing fission bank = 5.3024e-02 seconds\n",
      "     Sampling source sites         = 4.9908e-02 seconds\n",
      "     SEND/RECV source sites        = 3.0638e-03 seconds\n",
      "   Time accumulating tallies       = 1.1801e-01 seconds\n",
      "   Time writing statepoints        = 4.2029e-03 seconds\n",
      " Total time for finalization       = 1.6416e-03 seconds\n",
      " Total time elapsed                = 4.6234e+00 seconds\n",
      " Calculation Rate (inactive)       = 159806 particles/second\n",
      " Calculation Rate (active)         = 104323 particles/second\n",
      "\n",
      " ============================>     RESULTS     <============================\n",
      "\n",
      " k-effective (Collision)     = 1.07053 +/- 0.00149\n",
      " k-effective (Track-length)  = 1.07097 +/- 0.00150\n",
      " k-effective (Absorption)    = 1.06789 +/- 0.00199\n",
      " Combined k-effective        = 1.06971 +/- 0.00115\n",
      " Leakage Fraction            = 0.07191 +/- 0.00053\n",
      "\n"
     ]
    }
   ],
   "source": [
    "openmc.run()"
   ]
  },
  {
   "cell_type": "code",
   "execution_count": 75,
   "id": "abc58eee-84ed-494a-8f8f-4ae6ec297c9b",
   "metadata": {},
   "outputs": [],
   "source": [
    "sp = openmc.StatePoint(f'statepoint.{batches}.h5')"
   ]
  },
  {
   "cell_type": "code",
   "execution_count": 33,
   "id": "3d22f1aa-3770-44f5-9a4e-e271bcac304c",
   "metadata": {},
   "outputs": [],
   "source": [
    "flux_rate = sp.get_tally(scores=['flux'],filters=[energy_filter])"
   ]
  },
  {
   "cell_type": "code",
   "execution_count": 66,
   "id": "4b21742b-48e1-4e18-8af3-f5159df21dbc",
   "metadata": {},
   "outputs": [],
   "source": [
    "group_1 = flux_rate.mean[::2].reshape(-1)\n",
    "group_2 = flux_rate.mean[1::2].reshape(-1)"
   ]
  },
  {
   "cell_type": "code",
   "execution_count": 68,
   "id": "91f81c38-d62b-4ba2-92cb-cf21d66f1c0c",
   "metadata": {},
   "outputs": [
    {
     "data": {
      "text/plain": [
       "[<matplotlib.lines.Line2D at 0x7fdafac73a10>]"
      ]
     },
     "execution_count": 68,
     "metadata": {},
     "output_type": "execute_result"
    },
    {
     "data": {
      "image/png": "[encoded data removed]",
      "text/plain": [
       "<Figure size 640x480 with 1 Axes>"
      ]
     },
     "metadata": {},
     "output_type": "display_data"
    }
   ],
   "source": [
    "#plt.plot(group_2)\n",
    "plt.plot(group_1)"
   ]
  },
  {
   "cell_type": "code",
   "execution_count": 70,
   "id": "1cf18496-9fa9-4703-b19a-ec03a0970baa",
   "metadata": {},
   "outputs": [
    {
     "data": {
      "text/plain": [
       "[<matplotlib.lines.Line2D at 0x7fdb0aeffd90>]"
      ]
     },
     "execution_count": 70,
     "metadata": {},
     "output_type": "execute_result"
    },
    {
     "data": {
      "image/png": "[encoded data removed]",
      "text/plain": [
       "<Figure size 640x480 with 1 Axes>"
      ]
     },
     "metadata": {},
     "output_type": "display_data"
    }
   ],
   "source": [
    "plt.plot(group_2)"
   ]
  },
  {
   "cell_type": "code",
   "execution_count": 84,
   "id": "350bcf77-1ee1-4452-a325-19e7e01a07ab",
   "metadata": {},
   "outputs": [
    {
     "name": "stdout",
     "output_type": "stream",
     "text": [
      "[[1.43864533e-04 2.61804785e-04 2.91065857e-04 2.81884813e-04\n",
      "  3.92184512e-04 5.63623608e-04 4.70007306e-04 5.50170336e-04\n",
      "  6.24116943e-04 6.59229864e-04 7.65419438e-04 9.10666258e-04\n",
      "  9.61580944e-04 1.19296613e-03 1.13811134e-03 1.16478971e-03\n",
      "  1.04630531e-03 1.20114185e-03 1.20246113e-03 1.11594900e-03\n",
      "  1.14153400e-03 1.43131597e-03 1.45518387e-03 1.41569349e-03\n",
      "  1.53223524e-03 1.51454423e-03 1.42429279e-03 1.42464752e-03\n",
      "  1.43895066e-03 1.61482005e-03 1.69706171e-03 1.61096628e-03\n",
      "  1.72437030e-03 1.69322468e-03 1.62161216e-03 1.67279964e-03\n",
      "  1.82787196e-03 1.86503165e-03 1.89092059e-03 2.05354895e-03\n",
      "  1.75809850e-03 1.83790989e-03 1.96590705e-03 1.97609330e-03\n",
      "  1.94447179e-03 1.92949598e-03 1.84083371e-03 1.96623230e-03\n",
      "  2.13528012e-03 2.15115794e-03 2.28879046e-03 2.10039325e-03\n",
      "  1.88816703e-03 1.76812376e-03 1.86484708e-03 1.99649628e-03\n",
      "  2.14447361e-03 2.20424944e-03 2.06153364e-03 2.04628483e-03\n",
      "  1.88709476e-03 1.88309038e-03 2.03406170e-03 2.16887762e-03\n",
      "  2.01280027e-03 2.12634976e-03 1.92600096e-03 1.64062801e-03\n",
      "  1.71181859e-03 1.63431762e-03 1.34048905e-03 1.16673783e-03\n",
      "  1.32958774e-03 1.36228426e-03 1.27318548e-03 1.50716900e-03\n",
      "  1.36093363e-03 1.21697860e-03 1.11027167e-03 1.01514644e-03\n",
      "  9.32711675e-04 9.60871958e-04 1.06753015e-03 1.00668462e-03\n",
      "  9.77570815e-04 1.09560579e-03 8.84195647e-04 9.46448194e-04\n",
      "  8.65828822e-04 7.19109728e-04 5.94656129e-04 5.10762122e-04\n",
      "  4.35176224e-04 3.96343466e-04 3.99281603e-04 3.87754294e-04\n",
      "  2.52962183e-04 1.78259150e-04 9.65876536e-05 8.04778343e-05]]\n",
      "[[0.04452011 0.0731609  0.10005953 0.12413591 0.14810654 0.17130368\n",
      "  0.19506053 0.22043363 0.24504871 0.26784496 0.29168577 0.31510106\n",
      "  0.33700377 0.35936865 0.38151254 0.40232462 0.42323668 0.44175715\n",
      "  0.46462813 0.48622778 0.50597738 0.52308876 0.54121561 0.55720967\n",
      "  0.57560595 0.59283864 0.60642306 0.62620755 0.64596478 0.65995704\n",
      "  0.67220601 0.68294447 0.69894643 0.7039439  0.71939042 0.72416446\n",
      "  0.73422469 0.74879232 0.755116   0.76377851 0.77027948 0.77452729\n",
      "  0.78020462 0.78354552 0.77817849 0.78155795 0.79215308 0.79281901\n",
      "  0.79650789 0.79626832 0.78645601 0.78454764 0.78142738 0.77905332\n",
      "  0.77471979 0.77000497 0.76541204 0.76500807 0.76132071 0.75153244\n",
      "  0.7447325  0.732528   0.71845906 0.70921125 0.69951358 0.68952769\n",
      "  0.6781825  0.66897607 0.66056502 0.64751447 0.64067547 0.62750926\n",
      "  0.61214779 0.59889193 0.58516812 0.57138175 0.55766973 0.53773389\n",
      "  0.52333293 0.50262442 0.48220816 0.46043119 0.4400178  0.41613139\n",
      "  0.40011348 0.37909309 0.35541874 0.33232286 0.31181586 0.29018122\n",
      "  0.26891733 0.24509334 0.22030728 0.19583671 0.17245111 0.14948525\n",
      "  0.12309287 0.09834408 0.07160178 0.04523503]]\n",
      "time for simulation: 53.02569556236267 secs\n"
     ]
    }
   ],
   "source": [
    "print(np.array([group_1]))\n",
    "print(np.array([group_2]))\n",
    "time2 = time.time()\n",
    "tot_time = time2 - time1 \n",
    "print(f'time for simulation: {tot_time} secs')"
   ]
  },
  {
   "cell_type": "code",
   "execution_count": null,
   "id": "c569d14f-04ce-4398-9bf4-c6824625e3d2",
   "metadata": {},
   "outputs": [],
   "source": []
  }
 ],
 "metadata": {
  "kernelspec": {
   "display_name": "Python 3 (ipykernel)",
   "language": "python",
   "name": "python3"
  },
  "language_info": {
   "codemirror_mode": {
    "name": "ipython",
    "version": 3
   },
   "file_extension": ".py",
   "mimetype": "text/x-python",
   "name": "python",
   "nbconvert_exporter": "python",
   "pygments_lexer": "ipython3",
   "version": "3.11.6"
  }
 },
 "nbformat": 4,
 "nbformat_minor": 5
}
